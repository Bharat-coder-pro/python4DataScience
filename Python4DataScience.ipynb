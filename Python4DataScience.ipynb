{
  "nbformat": 4,
  "nbformat_minor": 0,
  "metadata": {
    "colab": {
      "provenance": [],
      "authorship_tag": "ABX9TyOI8GG3zhir9oaNoAK1msWY",
      "include_colab_link": true
    },
    "kernelspec": {
      "name": "python3",
      "display_name": "Python 3"
    },
    "language_info": {
      "name": "python"
    }
  },
  "cells": [
    {
      "cell_type": "markdown",
      "metadata": {
        "id": "view-in-github",
        "colab_type": "text"
      },
      "source": [
        "<a href=\"https://colab.research.google.com/github/Bharat-coder-pro/WebDev/blob/main/Python4DataScience.ipynb\" target=\"_parent\"><img src=\"https://colab.research.google.com/assets/colab-badge.svg\" alt=\"Open In Colab\"/></a>"
      ]
    },
    {
      "cell_type": "markdown",
      "source": [
        "## Python Basics \n"
      ],
      "metadata": {
        "id": "7RxTL2DfkY0C"
      }
    },
    {
      "cell_type": "code",
      "execution_count": 3,
      "metadata": {
        "colab": {
          "base_uri": "https://localhost:8080/"
        },
        "id": "pQ6krP5TRkO_",
        "outputId": "28b2b78d-b079-4d1f-e84e-10f2876d74a2"
      },
      "outputs": [
        {
          "output_type": "stream",
          "name": "stdout",
          "text": [
            "no. of students : 6\n",
            "your name : fj\n",
            "no. of students are present is  6 \n",
            "name of the boy is \n"
          ]
        }
      ],
      "source": [
        "#variables and inputs\n",
        "a=int(input(\"no. of students : \"))\n",
        "n=input(\"your name : \")\n",
        "print(\"no. of students are present is \",a,\"\\nname of the boy is \",n)"
      ]
    },
    {
      "cell_type": "code",
      "source": [
        "#arithmetic operators \n",
        "a=int(input(\"enter your first number : \"))\n",
        "b=int(input(\"enter your second number : \"))\n",
        "print(\"addition of \",a,\" and \",b,\" is : \",a+b)\n",
        "print(\"subtraction of \",a,\" and \",b,\" is : \",a-b)\n",
        "print(\"multiplication of \",a,\" and \",b,\" is : \",a*b)\n",
        "print(a/b)     #division \n",
        "print(a%b)     #modulus(for finding remainder)\n",
        "print(a**b)    #for finding exponentiation\n",
        "#this how you can implement all kinds of arithmetical operators in python very \n",
        "#easily"
      ],
      "metadata": {
        "colab": {
          "base_uri": "https://localhost:8080/"
        },
        "id": "rxuR2vPkVeDJ",
        "outputId": "92b5d39f-6a56-4604-ea1f-9d901c07919a"
      },
      "execution_count": 7,
      "outputs": [
        {
          "output_type": "stream",
          "name": "stdout",
          "text": [
            "enter your first number : 3\n",
            "enter your second number : 2\n",
            "addition of  3  and  2  is :  5\n",
            "subtraction of  3  and  2  is :  1\n",
            "multiplication of  3  and  2  is :  6\n",
            "1.5\n",
            "1\n",
            "9\n"
          ]
        }
      ]
    },
    {
      "cell_type": "code",
      "source": [
        "#logical operators in python\n",
        "a=int(input(\"enter any number : \"))\n",
        "b=int(input(\"enter any number : \"))\n",
        "\n",
        "print(a<b and a!=b)      # will return ture if both condition on both ends of and is gonna be true\n",
        "print(a>b or a<b)        # will return true if either condition is gonna be true\n",
        "print(not(a==b))         # will return true if the condition is false and if condition is true it will return false"
      ],
      "metadata": {
        "colab": {
          "base_uri": "https://localhost:8080/"
        },
        "id": "w9wGH-iMX-dF",
        "outputId": "620f106a-4605-42f6-9d25-b88d88c9a69b"
      },
      "execution_count": 8,
      "outputs": [
        {
          "output_type": "stream",
          "name": "stdout",
          "text": [
            "enter any number : 4\n",
            "enter any number : 9\n",
            "True\n",
            "True\n",
            "False\n"
          ]
        }
      ]
    },
    {
      "cell_type": "code",
      "source": [],
      "metadata": {
        "id": "vP3aT_GDZjln"
      },
      "execution_count": null,
      "outputs": []
    },
    {
      "cell_type": "markdown",
      "source": [
        "# Numpy Package or Library in Python"
      ],
      "metadata": {
        "id": "1ehSe8qrk1jA"
      }
    },
    {
      "cell_type": "markdown",
      "source": [
        "### creating NumPy arrays 1D and 2D"
      ],
      "metadata": {
        "id": "bu3B7EIUnHN9"
      }
    },
    {
      "cell_type": "code",
      "source": [
        "import numpy as np\n",
        "arr2D=[1,2,3,4,5,6,7],[8,9,10,11,12,13,14],[15,16,17,18,19,20,21,]\n",
        "array2D=np.array(arr2D)\n",
        "print(array2D)"
      ],
      "metadata": {
        "colab": {
          "base_uri": "https://localhost:8080/"
        },
        "id": "0NX08i0IW9nR",
        "outputId": "d219f8b3-ba18-407b-d468-73195e454949"
      },
      "execution_count": 7,
      "outputs": [
        {
          "output_type": "stream",
          "name": "stdout",
          "text": [
            "[[ 1  2  3  4  5  6  7]\n",
            " [ 8  9 10 11 12 13 14]\n",
            " [15 16 17 18 19 20 21]]\n"
          ]
        }
      ]
    },
    {
      "cell_type": "code",
      "source": [
        "import numpy as np\n",
        "arr1d=[1,2,3,4,5],['a','b','a','c','a']      #homogenity of numpy arrays\n",
        "arr1D=np.array(arr1d)\n",
        "print(arr1D)"
      ],
      "metadata": {
        "colab": {
          "base_uri": "https://localhost:8080/"
        },
        "id": "ZLXY8ppXnxjM",
        "outputId": "a85b27ef-ee51-4b04-8bac-28efcb5ac396"
      },
      "execution_count": 9,
      "outputs": [
        {
          "output_type": "stream",
          "name": "stdout",
          "text": [
            "[['1' '2' '3' '4' '5']\n",
            " ['a' 'b' 'a' 'c' 'a']]\n"
          ]
        }
      ]
    },
    {
      "cell_type": "code",
      "source": [
        "# creating identity matrix\n",
        "import numpy as np\n",
        "id_arr=np.eye(2,5)\n",
        "print(id_arr)"
      ],
      "metadata": {
        "colab": {
          "base_uri": "https://localhost:8080/"
        },
        "id": "bciQut2Xo0TI",
        "outputId": "2540c877-c4ef-41b7-e7ff-43c8f4eb3b2d"
      },
      "execution_count": 14,
      "outputs": [
        {
          "output_type": "stream",
          "name": "stdout",
          "text": [
            "[[1. 0. 0. 0. 0.]\n",
            " [0. 1. 0. 0. 0.]]\n"
          ]
        }
      ]
    },
    {
      "cell_type": "code",
      "source": [
        "# creating array of random integers in a specific range\n",
        "import numpy as np\n",
        "rand=np.random.randint(1,101,100)\n",
        "print(rand)\n"
      ],
      "metadata": {
        "colab": {
          "base_uri": "https://localhost:8080/"
        },
        "id": "ugjkxRUFp8mU",
        "outputId": "48f644fe-e3e3-4c27-96fb-57dc0052a5a3"
      },
      "execution_count": 79,
      "outputs": [
        {
          "output_type": "stream",
          "name": "stdout",
          "text": [
            "[ 34  14  16  42  23  25  22  50  27  90  68  32  89  49   4  13  47  91\n",
            "  51  81  45  41  42  15  72  78  97  67  34  93  34  74  82  99  56  59\n",
            "  83  22  69  23  25  71  37  53  90  86  35   1  44  33  36   9  66  34\n",
            "  19  69  67  90  31  43  15  58  76  25  19  47  19  32  58  72  34  19\n",
            "  98  61  11  73  12  78  18  67   9  70  62  15  34  59  57  11   5  45\n",
            "  47 100  10  50  45  30  89  74  68  65]\n"
          ]
        }
      ]
    },
    {
      "cell_type": "code",
      "source": [
        "#printing the last element of the array\n",
        "print(\"last element of array : \",rand[-1])\n",
        "#reversing the array\n",
        "print(\"reversed array :- \\n\",rand[::-1])"
      ],
      "metadata": {
        "colab": {
          "base_uri": "https://localhost:8080/"
        },
        "id": "PBd8XOeVq_rO",
        "outputId": "76aa4d52-26d3-472a-98ee-cc68284b9d46"
      },
      "execution_count": 20,
      "outputs": [
        {
          "output_type": "stream",
          "name": "stdout",
          "text": [
            "last element of array :  26\n",
            "reversed array :- \n",
            " [ 26  82  40  93   5  42  45  15  29  59  49  46  55  21  95  92  35  22\n",
            "  72  99  53  22  68  22  83  33  11  23  32  66  42  71  47 100  12  95\n",
            "  73  81  14  20  49  57  96   3  87  12  23  13  77 100  90   2  55  89\n",
            "  30  87  78  93  41  66  83  57  42  41  56  58  11  87  64  72  20  92\n",
            "  17  70  24  87  61  35  20  68  60  54  27  71  10  85  17  12  58  45\n",
            "  33  30  22  31  16  60   5  22  39]\n"
          ]
        }
      ]
    },
    {
      "cell_type": "code",
      "source": [
        "#printing the specific element of the multiDarray\n",
        "print(\"element at 2nd row and 5th column :\",arr2D[2][5])"
      ],
      "metadata": {
        "colab": {
          "base_uri": "https://localhost:8080/"
        },
        "id": "oJMJ6vUHr-y_",
        "outputId": "fce11d68-14f7-4e39-d9c6-32495eb5ccf6"
      },
      "execution_count": 28,
      "outputs": [
        {
          "output_type": "stream",
          "name": "stdout",
          "text": [
            "element at 2nd row and 5th column : 20\n"
          ]
        }
      ]
    },
    {
      "cell_type": "markdown",
      "source": [
        "### Insertion in NumPy Arrays "
      ],
      "metadata": {
        "id": "vbWriYI6t1Fz"
      }
    },
    {
      "cell_type": "code",
      "source": [
        "num=np.random.randint(1,51,50).reshape(10,5)        #inserting random integers using randint() function of NumPy\n",
        "print(num)"
      ],
      "metadata": {
        "colab": {
          "base_uri": "https://localhost:8080/"
        },
        "id": "nZARnRDtuGeA",
        "outputId": "0f3b02e5-d229-48c0-f523-4a558ceddb33"
      },
      "execution_count": 30,
      "outputs": [
        {
          "output_type": "stream",
          "name": "stdout",
          "text": [
            "[[21  3 26 16  8]\n",
            " [12 22 30 15 30]\n",
            " [20 18 25 25  4]\n",
            " [32  5 48 41 42]\n",
            " [23 39 26 22 28]\n",
            " [17  7 15  8  8]\n",
            " [27 45 30 19  1]\n",
            " [35 35 25 23 10]\n",
            " [42 32 22 20 30]\n",
            " [ 6 36  2 36 33]]\n"
          ]
        }
      ]
    },
    {
      "cell_type": "code",
      "source": [
        "num1=np.arange(1,11).reshape(5,2)                   #using arange()function choosing a specific range and then by reshape() setting up the dimensions of the array\n",
        "print(num1)"
      ],
      "metadata": {
        "colab": {
          "base_uri": "https://localhost:8080/"
        },
        "id": "06HCfUp7yEyu",
        "outputId": "930dcbea-f51b-4e79-e8a0-968bc7b30a01"
      },
      "execution_count": 31,
      "outputs": [
        {
          "output_type": "stream",
          "name": "stdout",
          "text": [
            "[[ 1  2]\n",
            " [ 3  4]\n",
            " [ 5  6]\n",
            " [ 7  8]\n",
            " [ 9 10]]\n"
          ]
        }
      ]
    },
    {
      "cell_type": "code",
      "source": [],
      "metadata": {
        "id": "1D8DUexkyvO9"
      },
      "execution_count": null,
      "outputs": []
    },
    {
      "cell_type": "markdown",
      "source": [
        "### replacing elements"
      ],
      "metadata": {
        "id": "xPvRN6M1zDG4"
      }
    },
    {
      "cell_type": "code",
      "source": [
        "counts=np.arange(1,11)\n",
        "counts[counts%2==0]=00             # using even odd logic simply done\n",
        "print(counts)"
      ],
      "metadata": {
        "colab": {
          "base_uri": "https://localhost:8080/"
        },
        "id": "ZiWC0k1Iwz04",
        "outputId": "d9b89ba7-4e5d-46cb-b199-6685d1b645ff"
      },
      "execution_count": 34,
      "outputs": [
        {
          "output_type": "stream",
          "name": "stdout",
          "text": [
            "[1 0 3 0 5 0 7 0 9 0]\n"
          ]
        }
      ]
    },
    {
      "cell_type": "markdown",
      "source": [
        "### Conversion 1D to 2D array"
      ],
      "metadata": {
        "id": "7IqvlMVS0Oi8"
      }
    },
    {
      "cell_type": "code",
      "source": [
        "numbers=[1,2,3,4,5,6,7,8,9,10]\n",
        "numbers2D=np.array(numbers)\n",
        "numbers2D.reshape(2,-2)"
      ],
      "metadata": {
        "colab": {
          "base_uri": "https://localhost:8080/"
        },
        "id": "KdpDsH4h0LuZ",
        "outputId": "8495ec56-2126-4d56-d4c8-8866fd66fbb8"
      },
      "execution_count": 42,
      "outputs": [
        {
          "output_type": "execute_result",
          "data": {
            "text/plain": [
              "array([[ 1,  2,  3,  4,  5],\n",
              "       [ 6,  7,  8,  9, 10]])"
            ]
          },
          "metadata": {},
          "execution_count": 42
        }
      ]
    },
    {
      "cell_type": "code",
      "source": [],
      "metadata": {
        "id": "7_0vQ57s0o21"
      },
      "execution_count": null,
      "outputs": []
    },
    {
      "cell_type": "markdown",
      "source": [
        "### printing unique and common elements from an NumPy Array"
      ],
      "metadata": {
        "id": "h73tYct42aHv"
      }
    },
    {
      "cell_type": "code",
      "source": [
        "common=np.intersect1d(rand,numbers)               #found common elements in arrays i.e. rand and numbers\n",
        "print(common)"
      ],
      "metadata": {
        "colab": {
          "base_uri": "https://localhost:8080/"
        },
        "id": "3XP88_eC3A0K",
        "outputId": "c9c7f084-dfa3-4c5b-f6e4-a4d399300d8d"
      },
      "execution_count": 45,
      "outputs": [
        {
          "output_type": "stream",
          "name": "stdout",
          "text": [
            "[4 5 6 7 8 9]\n"
          ]
        }
      ]
    },
    {
      "cell_type": "code",
      "source": [
        "#choosing a specific range\n",
        "print(counts[(counts >= 2 ) & (counts <= 8) ])              "
      ],
      "metadata": {
        "colab": {
          "base_uri": "https://localhost:8080/"
        },
        "id": "i1gHeejJ31Ki",
        "outputId": "63626749-16b8-4848-9f03-1200158b92f0"
      },
      "execution_count": 48,
      "outputs": [
        {
          "output_type": "stream",
          "name": "stdout",
          "text": [
            "[3 5 7]\n"
          ]
        }
      ]
    },
    {
      "cell_type": "code",
      "source": [],
      "metadata": {
        "id": "ldI3Gzi35gHY"
      },
      "execution_count": null,
      "outputs": []
    },
    {
      "cell_type": "markdown",
      "source": [
        "# Pandas in Python"
      ],
      "metadata": {
        "id": "uJpBLt8a5oeH"
      }
    },
    {
      "cell_type": "markdown",
      "source": [
        "### creating series using dictionaries in Pandas in Python\n"
      ],
      "metadata": {
        "id": "o4W7M9xt67KZ"
      }
    },
    {
      "cell_type": "code",
      "source": [
        "import pandas as pd\n",
        "dict1={\"I\":1,\"Love\":2,\"You\":3}\n",
        "serie1=pd.Series(dict1)\n",
        "print(serie1)"
      ],
      "metadata": {
        "colab": {
          "base_uri": "https://localhost:8080/"
        },
        "id": "8SI_mBwx508M",
        "outputId": "bb8d71df-4e93-46b8-f43a-fd24e7b47533"
      },
      "execution_count": 51,
      "outputs": [
        {
          "output_type": "stream",
          "name": "stdout",
          "text": [
            "I       1\n",
            "Love    2\n",
            "You     3\n",
            "dtype: int64\n"
          ]
        }
      ]
    },
    {
      "cell_type": "markdown",
      "source": [
        "### Assigning Names to Indexing of Series\n",
        " "
      ],
      "metadata": {
        "id": "MNxONEqF7O6I"
      }
    },
    {
      "cell_type": "code",
      "source": [
        "serie1.name=\"emotion\"\n",
        "print(serie1)\n",
        "\n"
      ],
      "metadata": {
        "colab": {
          "base_uri": "https://localhost:8080/"
        },
        "id": "bsQ4xGL37OZ-",
        "outputId": "2c789952-af0c-4175-9934-36cfe2fa7af7"
      },
      "execution_count": 64,
      "outputs": [
        {
          "output_type": "stream",
          "name": "stdout",
          "text": [
            "I       1\n",
            "Love    2\n",
            "You     3\n",
            "Name: emotion, dtype: int64\n"
          ]
        }
      ]
    },
    {
      "cell_type": "code",
      "source": [
        "dict2={\"I\":1,\"Hate\":2,\"You\":3}\n",
        "serie2=pd.Series(dict2)\n",
        "serie2.name='Emotion'\n",
        "print(serie2)"
      ],
      "metadata": {
        "colab": {
          "base_uri": "https://localhost:8080/"
        },
        "id": "U3JVEl4F9vlw",
        "outputId": "05c74345-93cf-4525-c408-253bace131cf"
      },
      "execution_count": 68,
      "outputs": [
        {
          "output_type": "stream",
          "name": "stdout",
          "text": [
            "I       1\n",
            "Hate    2\n",
            "You     3\n",
            "Name: Emotion, dtype: int64\n"
          ]
        }
      ]
    },
    {
      "cell_type": "markdown",
      "source": [
        "### Extracting elements that are not present in another series\n"
      ],
      "metadata": {
        "id": "gnxl59nZ87gv"
      }
    },
    {
      "cell_type": "code",
      "source": [
        "unique=(~serie1.isin(serie2))                     #extract those elements which are not in serie1 but are present in serie2\n",
        "print(unique)"
      ],
      "metadata": {
        "colab": {
          "base_uri": "https://localhost:8080/"
        },
        "id": "SCo87_Mj8p8_",
        "outputId": "28a6486c-2960-4b84-bbf3-42031183df0d"
      },
      "execution_count": 71,
      "outputs": [
        {
          "output_type": "stream",
          "name": "stdout",
          "text": [
            "I       False\n",
            "Love    False\n",
            "You     False\n",
            "Name: emotion, dtype: bool\n"
          ]
        }
      ]
    },
    {
      "cell_type": "markdown",
      "source": [
        "# Converting Pandas Series into a Pandas DataFrame"
      ],
      "metadata": {
        "id": "u5NFLVtYAETw"
      }
    },
    {
      "cell_type": "code",
      "source": [
        "dataFrame1=pd.DataFrame(rand.reshape(10,10))\n",
        "print(dataFrame1)                                                  # pandas dataframes don't show output with brackets likewise in NumPyArrays"
      ],
      "metadata": {
        "colab": {
          "base_uri": "https://localhost:8080/"
        },
        "id": "FBHx93dS8EWN",
        "outputId": "f2bbe2ee-e94b-4238-f361-dd3b6cebfcda"
      },
      "execution_count": 80,
      "outputs": [
        {
          "output_type": "stream",
          "name": "stdout",
          "text": [
            "    0    1   2   3   4   5   6   7   8   9\n",
            "0  34   14  16  42  23  25  22  50  27  90\n",
            "1  68   32  89  49   4  13  47  91  51  81\n",
            "2  45   41  42  15  72  78  97  67  34  93\n",
            "3  34   74  82  99  56  59  83  22  69  23\n",
            "4  25   71  37  53  90  86  35   1  44  33\n",
            "5  36    9  66  34  19  69  67  90  31  43\n",
            "6  15   58  76  25  19  47  19  32  58  72\n",
            "7  34   19  98  61  11  73  12  78  18  67\n",
            "8   9   70  62  15  34  59  57  11   5  45\n",
            "9  47  100  10  50  45  30  89  74  68  65\n"
          ]
        }
      ]
    },
    {
      "cell_type": "code",
      "source": [],
      "metadata": {
        "id": "AUL32Y3E7Lzc"
      },
      "execution_count": null,
      "outputs": []
    }
  ]
}